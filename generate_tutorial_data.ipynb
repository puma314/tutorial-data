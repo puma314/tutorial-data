{
 "cells": [
  {
   "cell_type": "code",
   "execution_count": 1,
   "metadata": {},
   "outputs": [],
   "source": [
    "import os\n",
    "import pandas as pd\n",
    "import numpy as np"
   ]
  },
  {
   "cell_type": "code",
   "execution_count": 124,
   "metadata": {},
   "outputs": [],
   "source": [
    "def create_data(N, id_col, corrupt_features=False, corrupt_labels=False):\n",
    "    p = 0.7  # proportion that are educated (education=1)\n",
    "    p_var = p*(1-p)\n",
    "    p_std = np.sqrt(p_var)\n",
    "    education = np.random.uniform(low=0, high=1, size=N) <= p\n",
    "    # As education goes up, loan status should go down\n",
    "    \n",
    "    loan_amount = np.random.normal(6000, 1500, size=N)  # ev=6000, std=1500\n",
    "    noise_term = np.random.normal(0,0.5, size=N)\n",
    "    # As loan_amount goes up, loan_status should go down\n",
    "    loan_status = ((education-p)/p_std - (loan_amount-6000)/1500 + noise_term) >= 0\n",
    "    \n",
    "    if corrupt_features:\n",
    "        loan_amount += (np.random.uniform(low=0, high=1, size=N) <= 0.15)*2000\n",
    "    if corrupt_labels:\n",
    "        size = int(0.25 * len(loan_amount))\n",
    "        idx = np.random.choice(N, size, replace=False)\n",
    "        loan_status = loan_status.astype(np.int64)\n",
    "        loan_status[idx] -= 1  # Turn 0 -> -1, 1 -> 0\n",
    "        loan_status = np.clip(loan_status, 0, 1)  # -1 -> 0\n",
    "    \n",
    "    d = {\n",
    "        'loan_id': id_col, \n",
    "        'college_degree': education, \n",
    "        'loan_amount': loan_amount, \n",
    "        'loan_repaid': loan_status\n",
    "    }\n",
    "    return pd.DataFrame(data=d)\n",
    "    "
   ]
  },
  {
   "cell_type": "code",
   "execution_count": 128,
   "metadata": {},
   "outputs": [],
   "source": [
    "from sklearn.linear_model import LogisticRegression\n",
    "\n",
    "def compute_regression_score(res):\n",
    "    model = LogisticRegression()\n",
    "    model.fit(res[['college_degree', 'loan_amount']], res['loan_repaid'])\n",
    "    return model.score(res[['college_degree', 'loan_amount']], res['loan_repaid'])"
   ]
  },
  {
   "cell_type": "code",
   "execution_count": 129,
   "metadata": {},
   "outputs": [],
   "source": [
    "id_col = [\"ID%04d\"%x for x in range(0,800)]\n",
    "res = create_data(800, id_col, corrupt_features=False, corrupt_labels=True)"
   ]
  },
  {
   "cell_type": "code",
   "execution_count": 130,
   "metadata": {},
   "outputs": [
    {
     "data": {
      "text/html": [
       "<div>\n",
       "<style scoped>\n",
       "    .dataframe tbody tr th:only-of-type {\n",
       "        vertical-align: middle;\n",
       "    }\n",
       "\n",
       "    .dataframe tbody tr th {\n",
       "        vertical-align: top;\n",
       "    }\n",
       "\n",
       "    .dataframe thead th {\n",
       "        text-align: right;\n",
       "    }\n",
       "</style>\n",
       "<table border=\"1\" class=\"dataframe\">\n",
       "  <thead>\n",
       "    <tr style=\"text-align: right;\">\n",
       "      <th></th>\n",
       "      <th>loan_id</th>\n",
       "      <th>college_degree</th>\n",
       "      <th>loan_amount</th>\n",
       "      <th>loan_repaid</th>\n",
       "    </tr>\n",
       "  </thead>\n",
       "  <tbody>\n",
       "    <tr>\n",
       "      <th>0</th>\n",
       "      <td>ID0000</td>\n",
       "      <td>True</td>\n",
       "      <td>5194.043915</td>\n",
       "      <td>1</td>\n",
       "    </tr>\n",
       "    <tr>\n",
       "      <th>1</th>\n",
       "      <td>ID0001</td>\n",
       "      <td>True</td>\n",
       "      <td>8940.178925</td>\n",
       "      <td>0</td>\n",
       "    </tr>\n",
       "    <tr>\n",
       "      <th>2</th>\n",
       "      <td>ID0002</td>\n",
       "      <td>False</td>\n",
       "      <td>6166.882851</td>\n",
       "      <td>0</td>\n",
       "    </tr>\n",
       "    <tr>\n",
       "      <th>3</th>\n",
       "      <td>ID0003</td>\n",
       "      <td>True</td>\n",
       "      <td>8104.828040</td>\n",
       "      <td>1</td>\n",
       "    </tr>\n",
       "    <tr>\n",
       "      <th>4</th>\n",
       "      <td>ID0004</td>\n",
       "      <td>True</td>\n",
       "      <td>8709.169478</td>\n",
       "      <td>0</td>\n",
       "    </tr>\n",
       "  </tbody>\n",
       "</table>\n",
       "</div>"
      ],
      "text/plain": [
       "  loan_id  college_degree  loan_amount  loan_repaid\n",
       "0  ID0000            True  5194.043915            1\n",
       "1  ID0001            True  8940.178925            0\n",
       "2  ID0002           False  6166.882851            0\n",
       "3  ID0003            True  8104.828040            1\n",
       "4  ID0004            True  8709.169478            0"
      ]
     },
     "execution_count": 130,
     "metadata": {},
     "output_type": "execute_result"
    }
   ],
   "source": [
    "res.head()"
   ]
  },
  {
   "cell_type": "code",
   "execution_count": 131,
   "metadata": {},
   "outputs": [
    {
     "data": {
      "text/html": [
       "<div>\n",
       "<style scoped>\n",
       "    .dataframe tbody tr th:only-of-type {\n",
       "        vertical-align: middle;\n",
       "    }\n",
       "\n",
       "    .dataframe tbody tr th {\n",
       "        vertical-align: top;\n",
       "    }\n",
       "\n",
       "    .dataframe thead th {\n",
       "        text-align: right;\n",
       "    }\n",
       "</style>\n",
       "<table border=\"1\" class=\"dataframe\">\n",
       "  <thead>\n",
       "    <tr style=\"text-align: right;\">\n",
       "      <th></th>\n",
       "      <th>loan_id</th>\n",
       "      <th>college_degree</th>\n",
       "      <th>loan_amount</th>\n",
       "      <th>loan_repaid</th>\n",
       "    </tr>\n",
       "  </thead>\n",
       "  <tbody>\n",
       "    <tr>\n",
       "      <th>count</th>\n",
       "      <td>800</td>\n",
       "      <td>800</td>\n",
       "      <td>800.000000</td>\n",
       "      <td>800.000000</td>\n",
       "    </tr>\n",
       "    <tr>\n",
       "      <th>unique</th>\n",
       "      <td>800</td>\n",
       "      <td>2</td>\n",
       "      <td>NaN</td>\n",
       "      <td>NaN</td>\n",
       "    </tr>\n",
       "    <tr>\n",
       "      <th>top</th>\n",
       "      <td>ID0241</td>\n",
       "      <td>True</td>\n",
       "      <td>NaN</td>\n",
       "      <td>NaN</td>\n",
       "    </tr>\n",
       "    <tr>\n",
       "      <th>freq</th>\n",
       "      <td>1</td>\n",
       "      <td>576</td>\n",
       "      <td>NaN</td>\n",
       "      <td>NaN</td>\n",
       "    </tr>\n",
       "    <tr>\n",
       "      <th>mean</th>\n",
       "      <td>NaN</td>\n",
       "      <td>NaN</td>\n",
       "      <td>5927.698154</td>\n",
       "      <td>0.437500</td>\n",
       "    </tr>\n",
       "    <tr>\n",
       "      <th>std</th>\n",
       "      <td>NaN</td>\n",
       "      <td>NaN</td>\n",
       "      <td>1426.292842</td>\n",
       "      <td>0.496389</td>\n",
       "    </tr>\n",
       "    <tr>\n",
       "      <th>min</th>\n",
       "      <td>NaN</td>\n",
       "      <td>NaN</td>\n",
       "      <td>1319.872451</td>\n",
       "      <td>0.000000</td>\n",
       "    </tr>\n",
       "    <tr>\n",
       "      <th>25%</th>\n",
       "      <td>NaN</td>\n",
       "      <td>NaN</td>\n",
       "      <td>4950.598817</td>\n",
       "      <td>0.000000</td>\n",
       "    </tr>\n",
       "    <tr>\n",
       "      <th>50%</th>\n",
       "      <td>NaN</td>\n",
       "      <td>NaN</td>\n",
       "      <td>5861.938229</td>\n",
       "      <td>0.000000</td>\n",
       "    </tr>\n",
       "    <tr>\n",
       "      <th>75%</th>\n",
       "      <td>NaN</td>\n",
       "      <td>NaN</td>\n",
       "      <td>6921.020864</td>\n",
       "      <td>1.000000</td>\n",
       "    </tr>\n",
       "    <tr>\n",
       "      <th>max</th>\n",
       "      <td>NaN</td>\n",
       "      <td>NaN</td>\n",
       "      <td>9890.506643</td>\n",
       "      <td>1.000000</td>\n",
       "    </tr>\n",
       "  </tbody>\n",
       "</table>\n",
       "</div>"
      ],
      "text/plain": [
       "       loan_id college_degree  loan_amount  loan_repaid\n",
       "count      800            800   800.000000   800.000000\n",
       "unique     800              2          NaN          NaN\n",
       "top     ID0241           True          NaN          NaN\n",
       "freq         1            576          NaN          NaN\n",
       "mean       NaN            NaN  5927.698154     0.437500\n",
       "std        NaN            NaN  1426.292842     0.496389\n",
       "min        NaN            NaN  1319.872451     0.000000\n",
       "25%        NaN            NaN  4950.598817     0.000000\n",
       "50%        NaN            NaN  5861.938229     0.000000\n",
       "75%        NaN            NaN  6921.020864     1.000000\n",
       "max        NaN            NaN  9890.506643     1.000000"
      ]
     },
     "execution_count": 131,
     "metadata": {},
     "output_type": "execute_result"
    }
   ],
   "source": [
    "res.describe(include='all')"
   ]
  },
  {
   "cell_type": "code",
   "execution_count": 132,
   "metadata": {},
   "outputs": [
    {
     "data": {
      "text/plain": [
       "0.825"
      ]
     },
     "execution_count": 132,
     "metadata": {},
     "output_type": "execute_result"
    }
   ],
   "source": [
    "compute_regression_score(res)"
   ]
  },
  {
   "cell_type": "code",
   "execution_count": 133,
   "metadata": {},
   "outputs": [],
   "source": [
    "train_data_size = 800\n",
    "test_data_size = 400\n",
    "# Above is reference\n",
    "bad_test_data_size = 400  # features are bad, labels are good\n",
    "label_shift_data_size = 400  # features are good, labels are bad"
   ]
  },
  {
   "cell_type": "code",
   "execution_count": 135,
   "metadata": {},
   "outputs": [],
   "source": [
    "total = 0\n",
    "for name, N, corrupt_features, corrupt_labels in [\n",
    "    ('train', 853, False, False), ('test', 428, False, False),\n",
    "    ('feature_shift', 613, True, False), ('label_shift', 275, False, True)]:\n",
    "    id_col = [\"ID%04d\"%x for x in range(total,total+N)]\n",
    "    total += N\n",
    "    df = create_data(N, id_col, corrupt_features, corrupt_labels)\n",
    "    save_path = f'{name}.csv'\n",
    "    df.to_csv(save_path, index=False)"
   ]
  }
 ],
 "metadata": {
  "kernelspec": {
   "display_name": "Python 3",
   "language": "python",
   "name": "python3"
  },
  "language_info": {
   "codemirror_mode": {
    "name": "ipython",
    "version": 3
   },
   "file_extension": ".py",
   "mimetype": "text/x-python",
   "name": "python",
   "nbconvert_exporter": "python",
   "pygments_lexer": "ipython3",
   "version": "3.9.0"
  }
 },
 "nbformat": 4,
 "nbformat_minor": 4
}
